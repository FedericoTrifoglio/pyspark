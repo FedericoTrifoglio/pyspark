{
 "cells": [
  {
   "cell_type": "markdown",
   "metadata": {},
   "source": [
    "# Introduction to PySpark\n",
    "\n",
    "Inspired by https://app.datacamp.com/learn/courses/introduction-to-pyspark"
   ]
  },
  {
   "cell_type": "code",
   "execution_count": 1,
   "metadata": {},
   "outputs": [
    {
     "name": "stdout",
     "output_type": "stream",
     "text": [
      "<pyspark.sql.session.SparkSession object at 0x0000019AD6CC2B20>\n"
     ]
    }
   ],
   "source": [
    "from pyspark.sql import SparkSession\n",
    "from pyspark.sql.types import StructType, IntegerType, StringType\n",
    "import matplotlib.pyplot as plt\n",
    "\n",
    "# spark.stop()\n",
    "spark = SparkSession.builder.getOrCreate()\n",
    "print(spark)"
   ]
  },
  {
   "cell_type": "code",
   "execution_count": 2,
   "metadata": {},
   "outputs": [
    {
     "data": {
      "text/html": [
       "\n",
       "        <div>\n",
       "            <p><b>SparkContext</b></p>\n",
       "\n",
       "            <p><a href=\"http://LON-10-L-770.pc.london.mintel.ad:4042\">Spark UI</a></p>\n",
       "\n",
       "            <dl>\n",
       "              <dt>Version</dt>\n",
       "                <dd><code>v3.2.1</code></dd>\n",
       "              <dt>Master</dt>\n",
       "                <dd><code>local[*]</code></dd>\n",
       "              <dt>AppName</dt>\n",
       "                <dd><code>pyspark-shell</code></dd>\n",
       "            </dl>\n",
       "        </div>\n",
       "        "
      ],
      "text/plain": [
       "<SparkContext master=local[*] appName=pyspark-shell>"
      ]
     },
     "execution_count": 2,
     "metadata": {},
     "output_type": "execute_result"
    }
   ],
   "source": [
    "spark.sparkContext"
   ]
  },
  {
   "cell_type": "markdown",
   "metadata": {},
   "source": [
    "Think of the `SparkContext` as a connection to a cluster and the `SparkSession` as the interface with that connection."
   ]
  },
  {
   "cell_type": "code",
   "execution_count": 3,
   "metadata": {},
   "outputs": [],
   "source": [
    "schema = StructType() \\\n",
    "      .add('year', IntegerType(), True) \\\n",
    "      .add('month', IntegerType(), True) \\\n",
    "      .add('day', IntegerType(), True) \\\n",
    "      .add('dep_time', IntegerType(), True) \\\n",
    "      .add('dep_delay', IntegerType(), True) \\\n",
    "      .add('arr_time', IntegerType(), True) \\\n",
    "      .add('arr_delay', IntegerType(), True) \\\n",
    "      .add('carrier', StringType(), True) \\\n",
    "      .add('tailnum', StringType(), True) \\\n",
    "      .add('flight', StringType(), True) \\\n",
    "      .add('origin', StringType(), True) \\\n",
    "      .add('dest', StringType(), True) \\\n",
    "      .add('air_time', IntegerType(), True) \\\n",
    "      .add('distance', IntegerType(), True) \\\n",
    "      .add('hour', IntegerType(), True) \\\n",
    "      .add('minute', IntegerType(), True) \\\n",
    "\n",
    "flights = spark.read.options(header='True') \\\n",
    "                    .schema(schema) \\\n",
    "                    .csv('data//flights_small.csv')"
   ]
  },
  {
   "cell_type": "code",
   "execution_count": 4,
   "metadata": {},
   "outputs": [
    {
     "data": {
      "text/plain": [
       "pyspark.sql.dataframe.DataFrame"
      ]
     },
     "execution_count": 4,
     "metadata": {},
     "output_type": "execute_result"
    }
   ],
   "source": [
    "type(flights)"
   ]
  },
  {
   "cell_type": "code",
   "execution_count": 5,
   "metadata": {},
   "outputs": [
    {
     "name": "stdout",
     "output_type": "stream",
     "text": [
      "+----+-----+---+--------+---------+--------+---------+-------+-------+------+------+----+--------+--------+----+------+\n",
      "|year|month|day|dep_time|dep_delay|arr_time|arr_delay|carrier|tailnum|flight|origin|dest|air_time|distance|hour|minute|\n",
      "+----+-----+---+--------+---------+--------+---------+-------+-------+------+------+----+--------+--------+----+------+\n",
      "|2014|   12|  8|     658|       -7|     935|       -5|     VX| N846VA|  1780|   SEA| LAX|     132|     954|   6|    58|\n",
      "|2014|    1| 22|    1040|        5|    1505|        5|     AS| N559AS|   851|   SEA| HNL|     360|    2677|  10|    40|\n",
      "|2014|    3|  9|    1443|       -2|    1652|        2|     VX| N847VA|   755|   SEA| SFO|     111|     679|  14|    43|\n",
      "|2014|    4|  9|    1705|       45|    1839|       34|     WN| N360SW|   344|   PDX| SJC|      83|     569|  17|     5|\n",
      "|2014|    3|  9|     754|       -1|    1015|        1|     AS| N612AS|   522|   SEA| BUR|     127|     937|   7|    54|\n",
      "+----+-----+---+--------+---------+--------+---------+-------+-------+------+------+----+--------+--------+----+------+\n",
      "only showing top 5 rows\n",
      "\n"
     ]
    }
   ],
   "source": [
    "flights.show(5)"
   ]
  },
  {
   "cell_type": "code",
   "execution_count": 6,
   "metadata": {},
   "outputs": [
    {
     "name": "stdout",
     "output_type": "stream",
     "text": [
      "root\n",
      " |-- year: integer (nullable = true)\n",
      " |-- month: integer (nullable = true)\n",
      " |-- day: integer (nullable = true)\n",
      " |-- dep_time: integer (nullable = true)\n",
      " |-- dep_delay: integer (nullable = true)\n",
      " |-- arr_time: integer (nullable = true)\n",
      " |-- arr_delay: integer (nullable = true)\n",
      " |-- carrier: string (nullable = true)\n",
      " |-- tailnum: string (nullable = true)\n",
      " |-- flight: string (nullable = true)\n",
      " |-- origin: string (nullable = true)\n",
      " |-- dest: string (nullable = true)\n",
      " |-- air_time: integer (nullable = true)\n",
      " |-- distance: integer (nullable = true)\n",
      " |-- hour: integer (nullable = true)\n",
      " |-- minute: integer (nullable = true)\n",
      "\n"
     ]
    }
   ],
   "source": [
    "flights.printSchema()"
   ]
  },
  {
   "cell_type": "code",
   "execution_count": 7,
   "metadata": {},
   "outputs": [
    {
     "data": {
      "text/plain": [
       "[]"
      ]
     },
     "execution_count": 7,
     "metadata": {},
     "output_type": "execute_result"
    }
   ],
   "source": [
    "spark.catalog.listTables()"
   ]
  },
  {
   "cell_type": "markdown",
   "metadata": {},
   "source": [
    "`flights` is stored locally, not in the `SparkSession` catalog. This means that we can use all the Spark DataFrame methods on it, but we can't access the data in other contexts.\n",
    "\n",
    "For example, a SQL query (using the `.sql()` method) that references your DataFrame will throw an error. To access the data in this way, we have to save it as a temporary table."
   ]
  },
  {
   "cell_type": "code",
   "execution_count": 8,
   "metadata": {},
   "outputs": [],
   "source": [
    "flights.createOrReplaceTempView('flights')"
   ]
  },
  {
   "cell_type": "code",
   "execution_count": 9,
   "metadata": {},
   "outputs": [
    {
     "data": {
      "text/plain": [
       "[Table(name='flights', database=None, description=None, tableType='TEMPORARY', isTemporary=True)]"
      ]
     },
     "execution_count": 9,
     "metadata": {},
     "output_type": "execute_result"
    }
   ],
   "source": [
    "spark.catalog.listTables()"
   ]
  },
  {
   "cell_type": "markdown",
   "metadata": {},
   "source": [
    "We can now run a query, make the dataset smaller and convert it to a pandas data frame (eg for EDA, plotting).\n",
    "\n",
    "`--sql` enables SQL syntax highlighting in VSCode.\n",
    "https://github.com/ptweir/python-string-sql"
   ]
  },
  {
   "cell_type": "code",
   "execution_count": 10,
   "metadata": {},
   "outputs": [],
   "source": [
    "q = \"\"\"--sql\n",
    "SELECT origin, dest, COUNT(*) as N \n",
    "FROM flights \n",
    "GROUP BY origin, dest\n",
    ";\n",
    "\"\"\"\n",
    "flight_counts = spark.sql(q)"
   ]
  },
  {
   "cell_type": "code",
   "execution_count": 11,
   "metadata": {},
   "outputs": [
    {
     "data": {
      "image/png": "[encoded data removed]",
      "text/plain": [
       "<Figure size 432x288 with 1 Axes>"
      ]
     },
     "metadata": {
      "needs_background": "light"
     },
     "output_type": "display_data"
    }
   ],
   "source": [
    "pd_counts = flight_counts.toPandas()\n",
    "pd_counts.hist('N')\n",
    "plt.title(\"Histogram of flights for each origin-destination pair\")\n",
    "plt.show()"
   ]
  },
  {
   "cell_type": "markdown",
   "metadata": {},
   "source": [
    "## SQL-equivalent PySpark DataFrames methods"
   ]
  },
  {
   "cell_type": "code",
   "execution_count": 12,
   "metadata": {},
   "outputs": [
    {
     "name": "stdout",
     "output_type": "stream",
     "text": [
      "+------+----+------------------+\n",
      "|origin|dest|      duration_hrs|\n",
      "+------+----+------------------+\n",
      "|   SEA| LAX|               2.2|\n",
      "|   SEA| HNL|               6.0|\n",
      "|   SEA| SFO|              1.85|\n",
      "|   PDX| SJC|1.3833333333333333|\n",
      "|   SEA| BUR|2.1166666666666667|\n",
      "+------+----+------------------+\n",
      "only showing top 5 rows\n",
      "\n"
     ]
    }
   ],
   "source": [
    "q = \"\"\"\n",
    "--sql\n",
    "SELECT origin, dest, air_time/60 AS duration_hrs\n",
    "FROM flights\n",
    ";\n",
    "\"\"\"\n",
    "spark.sql(q).show(5)"
   ]
  },
  {
   "cell_type": "markdown",
   "metadata": {},
   "source": [
    "The same can be achieved with `.select` and `.alias`"
   ]
  },
  {
   "cell_type": "code",
   "execution_count": 13,
   "metadata": {},
   "outputs": [
    {
     "name": "stdout",
     "output_type": "stream",
     "text": [
      "+------+----+------------------+\n",
      "|origin|dest|      duration_hrs|\n",
      "+------+----+------------------+\n",
      "|   SEA| LAX|               2.2|\n",
      "|   SEA| HNL|               6.0|\n",
      "|   SEA| SFO|              1.85|\n",
      "|   PDX| SJC|1.3833333333333333|\n",
      "|   SEA| BUR|2.1166666666666667|\n",
      "+------+----+------------------+\n",
      "only showing top 5 rows\n",
      "\n"
     ]
    }
   ],
   "source": [
    "flights \\\n",
    "    .select('origin', 'dest', (flights.air_time/60).alias('duration_hrs')) \\\n",
    "    .show(5)"
   ]
  },
  {
   "cell_type": "markdown",
   "metadata": {},
   "source": [
    "The same can be achieved with `.filter`"
   ]
  },
  {
   "cell_type": "code",
   "execution_count": 14,
   "metadata": {},
   "outputs": [
    {
     "name": "stdout",
     "output_type": "stream",
     "text": [
      "+------+----+--------+\n",
      "|origin|dest|distance|\n",
      "+------+----+--------+\n",
      "|   SEA| SAN|    1050|\n",
      "|   SEA| ORD|    1721|\n",
      "|   SEA| PHX|    1107|\n",
      "|   SEA| ANC|    1448|\n",
      "|   SEA| MDW|    1733|\n",
      "+------+----+--------+\n",
      "only showing top 5 rows\n",
      "\n"
     ]
    }
   ],
   "source": [
    "q = \"\"\"\n",
    "--sql\n",
    "SELECT origin, dest, distance\n",
    "FROM flights\n",
    "WHERE distance > 1000 AND distance < 2000\n",
    ";\n",
    "\"\"\"\n",
    "spark.sql(q).show(5)"
   ]
  },
  {
   "cell_type": "code",
   "execution_count": 15,
   "metadata": {},
   "outputs": [
    {
     "name": "stdout",
     "output_type": "stream",
     "text": [
      "+------+----+--------+\n",
      "|origin|dest|distance|\n",
      "+------+----+--------+\n",
      "|   SEA| SAN|    1050|\n",
      "|   SEA| ORD|    1721|\n",
      "|   SEA| PHX|    1107|\n",
      "|   SEA| ANC|    1448|\n",
      "|   SEA| MDW|    1733|\n",
      "+------+----+--------+\n",
      "only showing top 5 rows\n",
      "\n"
     ]
    }
   ],
   "source": [
    "flights \\\n",
    "    .filter(flights.distance > 1000) \\\n",
    "    .filter(flights.distance < 2000) \\\n",
    "    .select('origin', 'dest', 'distance') \\\n",
    "    .show(5)"
   ]
  },
  {
   "cell_type": "code",
   "execution_count": 16,
   "metadata": {},
   "outputs": [
    {
     "name": "stdout",
     "output_type": "stream",
     "text": [
      "+-----------------+\n",
      "|min_dist_from_PDX|\n",
      "+-----------------+\n",
      "|              106|\n",
      "+-----------------+\n",
      "\n"
     ]
    }
   ],
   "source": [
    "q = \"\"\"\n",
    "--sql\n",
    "SELECT MIN(distance) AS min_dist_from_PDX\n",
    "FROM flights\n",
    "WHERE origin = \"PDX\"\n",
    ";\n",
    "\"\"\"\n",
    "spark.sql(q).show(5)"
   ]
  },
  {
   "cell_type": "markdown",
   "metadata": {},
   "source": [
    "The same can be achieved with `.min`, `.max`, `.count`, `.avg` etc but these methods are only available for a GroupedData object, so we need to convert it with `.groupBy()` even if we don't actually use it."
   ]
  },
  {
   "cell_type": "code",
   "execution_count": 17,
   "metadata": {},
   "outputs": [
    {
     "name": "stdout",
     "output_type": "stream",
     "text": [
      "+-------------+\n",
      "|min(distance)|\n",
      "+-------------+\n",
      "|          106|\n",
      "+-------------+\n",
      "\n"
     ]
    }
   ],
   "source": [
    "flights \\\n",
    "    .filter(flights.origin=='PDX') \\\n",
    "    .groupBy() \\\n",
    "    .min('distance') \\\n",
    "    .show(5)"
   ]
  },
  {
   "cell_type": "markdown",
   "metadata": {},
   "source": [
    "The disadvantage is that we cannot alias the new column. The `.agg` method accepts sql functions like `min()`, `max()`, `count()`, `avg()` and they can be aliased."
   ]
  },
  {
   "cell_type": "code",
   "execution_count": 18,
   "metadata": {},
   "outputs": [
    {
     "name": "stdout",
     "output_type": "stream",
     "text": [
      "+-----------------+\n",
      "|min_dist_from_PDX|\n",
      "+-----------------+\n",
      "|              106|\n",
      "+-----------------+\n",
      "\n"
     ]
    }
   ],
   "source": [
    "from pyspark.sql.functions import min\n",
    "\n",
    "flights \\\n",
    "    .filter(flights.origin=='PDX') \\\n",
    "    .groupBy() \\\n",
    "    .agg(min('distance').alias('min_dist_from_PDX')) \\\n",
    "    .show(5)"
   ]
  },
  {
   "cell_type": "code",
   "execution_count": 19,
   "metadata": {},
   "outputs": [
    {
     "name": "stdout",
     "output_type": "stream",
     "text": [
      "+----+------------------+-----------------+\n",
      "|dest|     avg_dep_delay|     sd_dep_delay|\n",
      "+----+------------------+-----------------+\n",
      "| CLE|              31.5|23.33452377915607|\n",
      "| BWI|              16.0|32.11343530786962|\n",
      "| SFO|13.309370988446727| 34.1416307929602|\n",
      "| EWR|12.753521126760564|34.52046091170115|\n",
      "| MCO|11.096774193548388|40.20394245900907|\n",
      "+----+------------------+-----------------+\n",
      "only showing top 5 rows\n",
      "\n"
     ]
    }
   ],
   "source": [
    "from pyspark.sql.functions import avg, stddev\n",
    "\n",
    "flights \\\n",
    "    .groupBy('dest') \\\n",
    "    .agg(avg('dep_delay').alias('avg_dep_delay'), stddev('dep_delay').alias('sd_dep_delay')) \\\n",
    "    .orderBy('avg_dep_delay', ascending=False) \\\n",
    "    .show(5)"
   ]
  },
  {
   "cell_type": "markdown",
   "metadata": {},
   "source": [
    "Let's improve the table above by adding a column with the actual names of the airports."
   ]
  },
  {
   "cell_type": "code",
   "execution_count": 20,
   "metadata": {},
   "outputs": [],
   "source": [
    "from pyspark.sql.types import DoubleType\n",
    "\n",
    "schema = StructType() \\\n",
    "      .add('faa', StringType(), True) \\\n",
    "      .add('name', StringType(), True) \\\n",
    "      .add('lat', DoubleType(), True) \\\n",
    "      .add('lon', DoubleType(), True) \\\n",
    "      .add('alt', IntegerType(), True) \\\n",
    "      .add('tz', IntegerType(), True) \\\n",
    "      .add('dst', StringType(), True) \\\n",
    "\n",
    "airports = spark.read.options(header='True') \\\n",
    "                     .schema(schema) \\\n",
    "                     .csv('data//airports.csv')\n",
    "\n",
    "airports.createOrReplaceTempView('airports')"
   ]
  },
  {
   "cell_type": "markdown",
   "metadata": {},
   "source": [
    "In SQL we would do this."
   ]
  },
  {
   "cell_type": "code",
   "execution_count": 21,
   "metadata": {},
   "outputs": [
    {
     "name": "stdout",
     "output_type": "stream",
     "text": [
      "+---------+-------------------------+------------------+-----------------+\n",
      "|dest_code|dest_name                |avg_dep_delay     |sd_dep_delay     |\n",
      "+---------+-------------------------+------------------+-----------------+\n",
      "|CLE      |Cleveland Hopkins Intl   |31.5              |23.33452377915607|\n",
      "|BWI      |Baltimore Washington Intl|16.0              |32.11343530786962|\n",
      "|SFO      |San Francisco Intl       |13.309370988446727|34.1416307929602 |\n",
      "|EWR      |Newark Liberty Intl      |12.753521126760564|34.52046091170115|\n",
      "|MCO      |Orlando Intl             |11.096774193548388|40.20394245900907|\n",
      "+---------+-------------------------+------------------+-----------------+\n",
      "only showing top 5 rows\n",
      "\n"
     ]
    }
   ],
   "source": [
    "q = \"\"\"\n",
    "--sql\n",
    "SELECT dest AS dest_code, name as dest_name, avg_dep_delay, sd_dep_delay\n",
    "FROM (\n",
    "    SELECT dest, AVG(dep_delay) AS avg_dep_delay, STDDEV(dep_delay) AS sd_dep_delay\n",
    "    FROM flights\n",
    "    GROUP BY dest\n",
    ")\n",
    "JOIN airports ON dest = faa\n",
    "ORDER BY avg_dep_delay DESC\n",
    ";\n",
    "\"\"\"\n",
    "\n",
    "spark.sql(q).show(5, truncate=False)"
   ]
  },
  {
   "cell_type": "markdown",
   "metadata": {},
   "source": [
    "With PySpark API the same can be achieved with this."
   ]
  },
  {
   "cell_type": "code",
   "execution_count": 22,
   "metadata": {},
   "outputs": [
    {
     "name": "stdout",
     "output_type": "stream",
     "text": [
      "+---------+-------------------------+------------------+-----------------+\n",
      "|dest_code|dest_name                |avg_dep_delay     |sd_dep_delay     |\n",
      "+---------+-------------------------+------------------+-----------------+\n",
      "|CLE      |Cleveland Hopkins Intl   |31.5              |23.33452377915607|\n",
      "|BWI      |Baltimore Washington Intl|16.0              |32.11343530786962|\n",
      "|SFO      |San Francisco Intl       |13.309370988446727|34.1416307929602 |\n",
      "|EWR      |Newark Liberty Intl      |12.753521126760564|34.52046091170115|\n",
      "|MCO      |Orlando Intl             |11.096774193548388|40.20394245900907|\n",
      "+---------+-------------------------+------------------+-----------------+\n",
      "only showing top 5 rows\n",
      "\n"
     ]
    }
   ],
   "source": [
    "flights \\\n",
    "    .groupBy('dest') \\\n",
    "    .agg(avg('dep_delay').alias('avg_dep_delay'), stddev('dep_delay').alias('sd_dep_delay')) \\\n",
    "    .orderBy('avg_dep_delay', ascending=False) \\\n",
    "    .join(airports, flights.dest == airports.faa, 'left') \\\n",
    "    .select((flights.dest).alias('dest_code'), (airports.name).alias('dest_name'), 'avg_dep_delay', 'sd_dep_delay') \\\n",
    "    .show(5, truncate=False)"
   ]
  },
  {
   "cell_type": "markdown",
   "metadata": {},
   "source": [
    "## PySpark ML"
   ]
  },
  {
   "cell_type": "code",
   "execution_count": 23,
   "metadata": {},
   "outputs": [],
   "source": [
    "schema = StructType() \\\n",
    "      .add('tailnum', StringType(), True) \\\n",
    "      .add('year', IntegerType(), True) \\\n",
    "      .add('type', StringType(), True) \\\n",
    "      .add('manufacturer', StringType(), True) \\\n",
    "      .add('model', StringType(), True) \\\n",
    "      .add('engines', IntegerType(), True) \\\n",
    "      .add('seats', IntegerType(), True) \\\n",
    "      .add('speed', IntegerType(), True) \\\n",
    "      .add('engine', StringType(), True) \\\n",
    "\n",
    "planes = spark.read.options(header='True') \\\n",
    "                    .schema(schema) \\\n",
    "                    .csv('data//planes.csv')\n",
    "\n",
    "planes.createOrReplaceTempView('planes')"
   ]
  },
  {
   "cell_type": "code",
   "execution_count": 24,
   "metadata": {},
   "outputs": [],
   "source": [
    "planes = planes.withColumnRenamed('year', 'plane_year')\n",
    "flights_planes = flights.join(planes, on='tailnum', how='left')\n",
    "flights_planes.createOrReplaceTempView('flights_planes')"
   ]
  },
  {
   "cell_type": "code",
   "execution_count": 25,
   "metadata": {},
   "outputs": [],
   "source": [
    "q = \"\"\"\n",
    "--sql\n",
    "SELECT month,\n",
    "       air_time,\n",
    "       carrier, \n",
    "       dest, \n",
    "       year - plane_year AS plane_age,\n",
    "       CASE WHEN arr_delay > 0 THEN 1 ELSE 0 END AS label\n",
    "FROM flights_planes\n",
    ";\n",
    "\"\"\"\n",
    "\n",
    "model_data = spark.sql(q)\n",
    "model_data.createOrReplaceTempView('model_data')"
   ]
  },
  {
   "cell_type": "code",
   "execution_count": 26,
   "metadata": {},
   "outputs": [
    {
     "name": "stdout",
     "output_type": "stream",
     "text": [
      "(10000, 6)\n"
     ]
    }
   ],
   "source": [
    "print((model_data.count(), len(model_data.columns)))"
   ]
  },
  {
   "cell_type": "code",
   "execution_count": 27,
   "metadata": {},
   "outputs": [
    {
     "name": "stdout",
     "output_type": "stream",
     "text": [
      "+-----+--------+-------+----+---------+-----+\n",
      "|month|air_time|carrier|dest|plane_age|label|\n",
      "+-----+--------+-------+----+---------+-----+\n",
      "|    0|      75|      0|   0|      646|    0|\n",
      "+-----+--------+-------+----+---------+-----+\n",
      "\n"
     ]
    }
   ],
   "source": [
    "q = \"\"\"\n",
    "--sql\n",
    "SELECT COUNT(*) - COUNT(month) AS month,\n",
    "       COUNT(*) - COUNT(air_time) AS air_time,\n",
    "       COUNT(*) - COUNT(carrier) AS carrier,\n",
    "       COUNT(*) - COUNT(dest) AS dest,\n",
    "       COUNT(*) - COUNT(plane_age) AS plane_age,\n",
    "       COUNT(*) - COUNT(label) AS label\n",
    "FROM (\n",
    "    SELECT month,\n",
    "           air_time,\n",
    "           carrier, \n",
    "           dest, \n",
    "           year - plane_year AS plane_age,\n",
    "           CASE WHEN arr_delay > 0 THEN 1 ELSE 0 END AS label\n",
    "    FROM flights_planes\n",
    ")\n",
    ";\n",
    "\"\"\"\n",
    "spark.sql(q).show()"
   ]
  },
  {
   "cell_type": "markdown",
   "metadata": {},
   "source": [
    "The same can be achieved with this."
   ]
  },
  {
   "cell_type": "code",
   "execution_count": 28,
   "metadata": {},
   "outputs": [
    {
     "name": "stdout",
     "output_type": "stream",
     "text": [
      "+-----+--------+-------+----+---------+-----+\n",
      "|month|air_time|carrier|dest|plane_age|label|\n",
      "+-----+--------+-------+----+---------+-----+\n",
      "|    0|      75|      0|   0|      646|    0|\n",
      "+-----+--------+-------+----+---------+-----+\n",
      "\n"
     ]
    }
   ],
   "source": [
    "from pyspark.sql.functions import isnan, when, count, col\n",
    "\n",
    "model_data.select([count(when(isnan(c) | col(c).isNull(), c)).alias(c) for c in model_data.columns]).show()"
   ]
  },
  {
   "cell_type": "code",
   "execution_count": 29,
   "metadata": {},
   "outputs": [
    {
     "name": "stdout",
     "output_type": "stream",
     "text": [
      "+--------------------------+\n",
      "|row_count_one_or_more_null|\n",
      "+--------------------------+\n",
      "|                       697|\n",
      "+--------------------------+\n",
      "\n"
     ]
    }
   ],
   "source": [
    "q = \"\"\"\n",
    "--sql\n",
    "SELECT COUNT(*) AS row_count_one_or_more_null\n",
    "FROM (\n",
    "    SELECT month,\n",
    "           air_time,\n",
    "           carrier, \n",
    "           dest, \n",
    "           year - plane_year AS plane_age,\n",
    "           CASE WHEN arr_delay > 0 THEN 1 ELSE 0 END AS label\n",
    "    FROM flights_planes\n",
    ")\n",
    "WHERE month IS NULL OR air_time IS NULL OR carrier IS NULL OR dest IS NULL OR plane_age IS NULL OR label IS NULL\n",
    ";\n",
    "\"\"\"\n",
    "spark.sql(q).show()"
   ]
  },
  {
   "cell_type": "markdown",
   "metadata": {},
   "source": [
    "The same can be achieved with this."
   ]
  },
  {
   "cell_type": "code",
   "execution_count": 30,
   "metadata": {},
   "outputs": [
    {
     "data": {
      "text/plain": [
       "697"
      ]
     },
     "execution_count": 30,
     "metadata": {},
     "output_type": "execute_result"
    }
   ],
   "source": [
    "model_data.filter(\" OR \".join([c + ' IS NULL' for c in model_data.columns])).count()"
   ]
  },
  {
   "cell_type": "code",
   "execution_count": 31,
   "metadata": {},
   "outputs": [
    {
     "name": "stdout",
     "output_type": "stream",
     "text": [
      "(9303, 6)\n"
     ]
    }
   ],
   "source": [
    "q = \"\"\"\n",
    "--sql\n",
    "SELECT *\n",
    "FROM (\n",
    "    SELECT month,\n",
    "           air_time,\n",
    "           carrier, \n",
    "           dest, \n",
    "           year - plane_year AS plane_age,\n",
    "           CASE WHEN arr_delay > 0 THEN 1 ELSE 0 END AS label\n",
    "    FROM flights_planes\n",
    ")\n",
    "WHERE month IS NOT NULL AND air_time IS NOT NULL AND carrier IS NOT NULL AND dest IS NOT NULL AND plane_age IS NOT NULL AND label IS NOT NULL\n",
    ";\n",
    "\"\"\"\n",
    "model_data_nona = spark.sql(q)\n",
    "print((model_data_nona.count(), len(model_data_nona.columns)))"
   ]
  },
  {
   "cell_type": "code",
   "execution_count": 32,
   "metadata": {},
   "outputs": [],
   "source": [
    "model_data_nona.createOrReplaceTempView('model_data_nona')"
   ]
  },
  {
   "cell_type": "markdown",
   "metadata": {},
   "source": [
    "The same can be achieved with this."
   ]
  },
  {
   "cell_type": "code",
   "execution_count": 33,
   "metadata": {},
   "outputs": [
    {
     "name": "stdout",
     "output_type": "stream",
     "text": [
      "(9303, 6)\n"
     ]
    }
   ],
   "source": [
    "model_data_nona = model_data.dropna()\n",
    "print((model_data_nona.count(), len(model_data_nona.columns)))"
   ]
  },
  {
   "cell_type": "code",
   "execution_count": 34,
   "metadata": {},
   "outputs": [
    {
     "name": "stdout",
     "output_type": "stream",
     "text": [
      "+------------------+-------------------+\n",
      "|     prop_no_delay|         prop_delay|\n",
      "+------------------+-------------------+\n",
      "|0.6242072449747393|0.37579275502526066|\n",
      "+------------------+-------------------+\n",
      "\n"
     ]
    }
   ],
   "source": [
    "q = \"\"\"\n",
    "--sql\n",
    "SELECT 1-AVG(label) AS prop_no_delay, AVG(label) AS prop_delay\n",
    "FROM model_data_nona\n",
    ";\n",
    "\"\"\"\n",
    "spark.sql(q).show()"
   ]
  },
  {
   "cell_type": "markdown",
   "metadata": {},
   "source": [
    "The same can be achieved with this."
   ]
  },
  {
   "cell_type": "code",
   "execution_count": 35,
   "metadata": {},
   "outputs": [
    {
     "name": "stdout",
     "output_type": "stream",
     "text": [
      "+------------------+-------------------+\n",
      "|     prop_no_delay|         prop_delay|\n",
      "+------------------+-------------------+\n",
      "|0.6242072449747393|0.37579275502526066|\n",
      "+------------------+-------------------+\n",
      "\n"
     ]
    }
   ],
   "source": [
    "model_data_nona.agg((1-avg('label')).alias('prop_no_delay'), avg('label').alias('prop_delay')).show()"
   ]
  },
  {
   "cell_type": "markdown",
   "metadata": {},
   "source": [
    "1. Build a preprocessing pipeline to one-hot encode the categorical features and merge them back with the numerical features\n",
    "2. Split the processed data into train and test\n",
    "3. Build hyperparameter grid for the regularization parameter and the L1/L2 ratio (Lasso or Ridge) for a logistic regression model\n",
    "4. Train the model using 5-fold cross validation and evaluate using ROC AUC\n",
    "5. Evaluate the best model on test set"
   ]
  },
  {
   "cell_type": "code",
   "execution_count": 36,
   "metadata": {},
   "outputs": [],
   "source": [
    "from pyspark.ml.feature import StringIndexer, OneHotEncoder, VectorAssembler\n",
    "from pyspark.ml import Pipeline\n",
    "\n",
    "carr_indexer = StringIndexer(inputCol='carrier', outputCol='carrier_index')\n",
    "carr_encoder = OneHotEncoder(inputCol='carrier_index', outputCol='carrier_fact')\n",
    "\n",
    "dest_indexer = StringIndexer(inputCol='dest', outputCol='dest_index')\n",
    "dest_encoder = OneHotEncoder(inputCol='dest_index', outputCol='dest_fact')\n",
    "\n",
    "vec_assembler = VectorAssembler(inputCols=['month', 'air_time', 'carrier_fact', 'dest_fact', 'plane_age'], outputCol='features')\n",
    "\n",
    "flights_pipe = Pipeline(stages=[dest_indexer, dest_encoder, carr_indexer, carr_encoder, vec_assembler])"
   ]
  },
  {
   "cell_type": "code",
   "execution_count": 37,
   "metadata": {},
   "outputs": [],
   "source": [
    "piped_data = flights_pipe.fit(model_data_nona).transform(model_data_nona)"
   ]
  },
  {
   "cell_type": "code",
   "execution_count": 38,
   "metadata": {},
   "outputs": [
    {
     "name": "stdout",
     "output_type": "stream",
     "text": [
      "+-----+--------+-------+----+---------+-----+----------+---------------+-------------+--------------+--------------------+\n",
      "|month|air_time|carrier|dest|plane_age|label|dest_index|      dest_fact|carrier_index|  carrier_fact|            features|\n",
      "+-----+--------+-------+----+---------+-----+----------+---------------+-------------+--------------+--------------------+\n",
      "|   12|     132|     VX| LAX|        3|    0|       1.0| (68,[1],[1.0])|          7.0|(10,[7],[1.0])|(81,[0,1,9,13,80]...|\n",
      "|    1|     360|     AS| HNL|        8|    1|      19.0|(68,[19],[1.0])|          0.0|(10,[0],[1.0])|(81,[0,1,2,31,80]...|\n",
      "|    3|     111|     VX| SFO|        3|    1|       0.0| (68,[0],[1.0])|          7.0|(10,[7],[1.0])|(81,[0,1,9,12,80]...|\n",
      "|    4|      83|     WN| SJC|       22|    1|       7.0| (68,[7],[1.0])|          1.0|(10,[1],[1.0])|(81,[0,1,3,19,80]...|\n",
      "|    3|     127|     AS| BUR|       15|    1|      22.0|(68,[22],[1.0])|          0.0|(10,[0],[1.0])|(81,[0,1,2,34,80]...|\n",
      "+-----+--------+-------+----+---------+-----+----------+---------------+-------------+--------------+--------------------+\n",
      "only showing top 5 rows\n",
      "\n"
     ]
    }
   ],
   "source": [
    "piped_data.show(5)"
   ]
  },
  {
   "cell_type": "code",
   "execution_count": 39,
   "metadata": {},
   "outputs": [],
   "source": [
    "training, test = piped_data.randomSplit([.6,.4])"
   ]
  },
  {
   "cell_type": "code",
   "execution_count": 40,
   "metadata": {},
   "outputs": [],
   "source": [
    "from pyspark.ml.classification import LogisticRegression\n",
    "\n",
    "lr = LogisticRegression()"
   ]
  },
  {
   "cell_type": "code",
   "execution_count": 41,
   "metadata": {},
   "outputs": [],
   "source": [
    "import pyspark.ml.evaluation as evals\n",
    "import pyspark.ml.tuning as tune\n",
    "import numpy as np\n",
    "\n",
    "evaluator = evals.BinaryClassificationEvaluator(metricName='areaUnderROC')\n",
    "\n",
    "grid = tune.ParamGridBuilder() \\\n",
    "    .addGrid(lr.regParam, np.arange(0, .1, .01)) \\\n",
    "    .addGrid(lr.elasticNetParam, [0,1]) \\\n",
    "    .build()"
   ]
  },
  {
   "cell_type": "code",
   "execution_count": 42,
   "metadata": {},
   "outputs": [],
   "source": [
    "cv = tune.CrossValidator(estimator=lr,\n",
    "               estimatorParamMaps=grid,\n",
    "               evaluator=evaluator,\n",
    "               numFolds=5\n",
    "               )"
   ]
  },
  {
   "cell_type": "code",
   "execution_count": 43,
   "metadata": {},
   "outputs": [
    {
     "name": "stdout",
     "output_type": "stream",
     "text": [
      "LogisticRegressionModel: uid=LogisticRegression_267b260b7440, numClasses=2, numFeatures=81\n"
     ]
    }
   ],
   "source": [
    "best_lr = lr.fit(training)\n",
    "print(best_lr)"
   ]
  },
  {
   "cell_type": "code",
   "execution_count": 44,
   "metadata": {},
   "outputs": [
    {
     "name": "stdout",
     "output_type": "stream",
     "text": [
      "0.6962808496360657\n"
     ]
    }
   ],
   "source": [
    "test_results = best_lr.transform(test)\n",
    "print(evaluator.evaluate(test_results))"
   ]
  }
 ],
 "metadata": {
  "interpreter": {
   "hash": "a516266561e31a98e1f505056415c7e921614f94151a9aed0f32dbb4f04bbe25"
  },
  "kernelspec": {
   "display_name": "Python 3",
   "language": "python",
   "name": "python3"
  },
  "language_info": {
   "codemirror_mode": {
    "name": "ipython",
    "version": 3
   },
   "file_extension": ".py",
   "mimetype": "text/x-python",
   "name": "python",
   "nbconvert_exporter": "python",
   "pygments_lexer": "ipython3",
   "version": "3.8.12"
  }
 },
 "nbformat": 4,
 "nbformat_minor": 2
}
