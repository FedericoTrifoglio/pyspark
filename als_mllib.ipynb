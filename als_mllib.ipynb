{
 "cells": [
  {
   "cell_type": "markdown",
   "metadata": {},
   "source": [
    "# Collaborative Filtering"
   ]
  },
  {
   "cell_type": "markdown",
   "metadata": {},
   "source": [
    "## Low-level Spark API (pyspark.mllib)"
   ]
  },
  {
   "cell_type": "code",
   "execution_count": 1,
   "metadata": {},
   "outputs": [],
   "source": [
    "from pyspark import SparkContext\n",
    "from pyspark.mllib.recommendation import Rating\n",
    "from pyspark.mllib.recommendation import ALS\n",
    "import os\n",
    "\n",
    "os.environ['PYSPARK_PYTHON'] = 'python'\n",
    "# sc.stop()\n",
    "sc = SparkContext()"
   ]
  },
  {
   "cell_type": "code",
   "execution_count": 2,
   "metadata": {},
   "outputs": [],
   "source": [
    "# https://grouplens.org/datasets/movielens/ ml-latest-small.zip (size: 1 MB)\n",
    "file_path = \"data//ratings.csv\"\n",
    "\n",
    "# Create the RDD from a csv file\n",
    "ratings = sc.textFile(file_path)"
   ]
  },
  {
   "cell_type": "code",
   "execution_count": 3,
   "metadata": {},
   "outputs": [],
   "source": [
    "ratings = ratings.map(lambda l: l.split(','))\n",
    "# csv has header\n",
    "header = ratings.first()\n",
    "ratings = ratings.filter(lambda l: l != header)\n",
    "ratings = ratings.map(lambda line: (int(line[0]), (int(line[1]), float(line[2]))))"
   ]
  },
  {
   "cell_type": "code",
   "execution_count": 4,
   "metadata": {},
   "outputs": [
    {
     "name": "stdout",
     "output_type": "stream",
     "text": [
      "There are 100836 ratings\n",
      "There are 232 ratings for user #1\n",
      "There are 29 ratings for user #2\n",
      "There are 39 ratings for user #3\n",
      "There are 216 ratings for user #4\n",
      "There are 44 ratings for user #5\n"
     ]
    }
   ],
   "source": [
    "print(f\"There are {ratings.count()} ratings\")\n",
    "for u, r in ratings.map(lambda x: x[0]).countByValue().items():\n",
    "    if u < 6:\n",
    "        print(f\"There are {r} ratings for user #{u}\")"
   ]
  },
  {
   "cell_type": "code",
   "execution_count": 5,
   "metadata": {},
   "outputs": [
    {
     "data": {
      "text/plain": [
       "[Rating(user=1, product=1, rating=4.0),\n",
       " Rating(user=1, product=3, rating=4.0),\n",
       " Rating(user=1, product=6, rating=4.0),\n",
       " Rating(user=1, product=47, rating=5.0),\n",
       " Rating(user=1, product=50, rating=5.0)]"
      ]
     },
     "execution_count": 5,
     "metadata": {},
     "output_type": "execute_result"
    }
   ],
   "source": [
    "ratings = ratings.sortByKey(ascending=True)\n",
    "ratings = ratings.map(lambda line: Rating(line[0], line[1][0], line[1][1]))\n",
    "ratings.take(5)"
   ]
  },
  {
   "cell_type": "code",
   "execution_count": 6,
   "metadata": {},
   "outputs": [],
   "source": [
    "training_data, test_data = ratings.randomSplit([0.8, 0.2])\n",
    "test_norating_data = test_data.map(lambda p: (p[0], p[1]))"
   ]
  },
  {
   "cell_type": "code",
   "execution_count": 7,
   "metadata": {},
   "outputs": [
    {
     "name": "stdout",
     "output_type": "stream",
     "text": [
      "Train size: 80819\n",
      "Test size: 20017\n"
     ]
    }
   ],
   "source": [
    "print(f\"Train size: {training_data.count()}\")\n",
    "print(f\"Test size: {test_data.count()}\")"
   ]
  },
  {
   "cell_type": "code",
   "execution_count": 8,
   "metadata": {},
   "outputs": [],
   "source": [
    "model = ALS.train(training_data, rank=10, iterations=10)\n",
    "predictions = model.predictAll(test_norating_data)"
   ]
  },
  {
   "cell_type": "code",
   "execution_count": 9,
   "metadata": {},
   "outputs": [
    {
     "data": {
      "text/plain": [
       "[Rating(user=368, product=3272, rating=3.0845464892288605)]"
      ]
     },
     "execution_count": 9,
     "metadata": {},
     "output_type": "execute_result"
    }
   ],
   "source": [
    "predictions.take(1)"
   ]
  },
  {
   "cell_type": "code",
   "execution_count": 10,
   "metadata": {},
   "outputs": [],
   "source": [
    "# create tuples where user-product is a key\n",
    "# join rates and preds by key\n",
    "# afer joining we have\n",
    "# ((user, product), (y, y_hat))\n",
    "rates = test_data.map(lambda x: ((x[0], x[1]), x[2]))\n",
    "preds = predictions.map(lambda x: ((x[0], x[1]), x[2]))\n",
    "rates_and_preds = rates.join(preds)"
   ]
  },
  {
   "cell_type": "code",
   "execution_count": 11,
   "metadata": {},
   "outputs": [
    {
     "data": {
      "text/plain": [
       "[((1, 1089), (5.0, 4.412471655306398))]"
      ]
     },
     "execution_count": 11,
     "metadata": {},
     "output_type": "execute_result"
    }
   ],
   "source": [
    "rates_and_preds.take(1)"
   ]
  },
  {
   "cell_type": "code",
   "execution_count": 12,
   "metadata": {},
   "outputs": [
    {
     "name": "stdout",
     "output_type": "stream",
     "text": [
      "MSE: 1.29\n"
     ]
    }
   ],
   "source": [
    "MSE = rates_and_preds.map(lambda r: (r[1][0] - r[1][1])**2).mean()\n",
    "print(f\"MSE: {MSE:.2f}\")"
   ]
  },
  {
   "cell_type": "markdown",
   "metadata": {},
   "source": [
    "## High-level Spark APIs (pyspark.ml)"
   ]
  },
  {
   "cell_type": "code",
   "execution_count": 13,
   "metadata": {},
   "outputs": [],
   "source": [
    "from pyspark.sql import SparkSession\n",
    "from pyspark.sql.types import StructType, IntegerType, FloatType\n",
    "from pyspark.ml.evaluation import RegressionEvaluator\n",
    "from pyspark.ml.recommendation import ALS"
   ]
  },
  {
   "cell_type": "code",
   "execution_count": 14,
   "metadata": {},
   "outputs": [],
   "source": [
    "spark = SparkSession.builder.getOrCreate()"
   ]
  },
  {
   "cell_type": "code",
   "execution_count": 15,
   "metadata": {},
   "outputs": [],
   "source": [
    "schema = StructType() \\\n",
    "      .add('userId', IntegerType(), True) \\\n",
    "      .add('movieId', IntegerType(), True) \\\n",
    "      .add('rating', FloatType(), True)\n",
    "\n",
    "ratings_df = spark.read.options(header='True') \\\n",
    "                       .schema(schema) \\\n",
    "                       .csv(file_path) \\\n",
    "                       .drop('timestamp')"
   ]
  },
  {
   "cell_type": "code",
   "execution_count": 16,
   "metadata": {},
   "outputs": [
    {
     "name": "stdout",
     "output_type": "stream",
     "text": [
      "+------+-------+------+\n",
      "|userId|movieId|rating|\n",
      "+------+-------+------+\n",
      "|     1|      1|   4.0|\n",
      "|     1|      3|   4.0|\n",
      "|     1|      6|   4.0|\n",
      "|     1|     47|   5.0|\n",
      "|     1|     50|   5.0|\n",
      "+------+-------+------+\n",
      "only showing top 5 rows\n",
      "\n"
     ]
    }
   ],
   "source": [
    "ratings_df.show(5)"
   ]
  },
  {
   "cell_type": "code",
   "execution_count": 17,
   "metadata": {},
   "outputs": [
    {
     "name": "stdout",
     "output_type": "stream",
     "text": [
      "+------+-------+------+----------+\n",
      "|userId|movieId|rating|prediction|\n",
      "+------+-------+------+----------+\n",
      "|   148|   5618|   3.0| 3.1956534|\n",
      "|   148|  30816|   5.0| 3.2353656|\n",
      "|   148|  44191|   4.0| 3.7005756|\n",
      "|   148|  69757|   3.5|  3.922342|\n",
      "|   148|  98491|   5.0|  3.826993|\n",
      "+------+-------+------+----------+\n",
      "only showing top 5 rows\n",
      "\n"
     ]
    }
   ],
   "source": [
    "training, test = ratings_df.randomSplit([0.8, 0.2])\n",
    "als = ALS(rank=10, maxIter=10, userCol='userId', itemCol='movieId', ratingCol='rating', coldStartStrategy='drop')\n",
    "model = als.fit(training)\n",
    "predictions = model.transform(test)\n",
    "predictions.show(5)"
   ]
  },
  {
   "cell_type": "code",
   "execution_count": 18,
   "metadata": {},
   "outputs": [
    {
     "name": "stdout",
     "output_type": "stream",
     "text": [
      "MSE: 0.68\n"
     ]
    }
   ],
   "source": [
    "evaluator = RegressionEvaluator(metricName='mae', labelCol='rating',\n",
    "                                predictionCol='prediction')\n",
    "MSE = evaluator.evaluate(predictions)\n",
    "print(f\"MSE: {MSE:.2f}\")"
   ]
  }
 ],
 "metadata": {
  "interpreter": {
   "hash": "a516266561e31a98e1f505056415c7e921614f94151a9aed0f32dbb4f04bbe25"
  },
  "kernelspec": {
   "display_name": "Python 3",
   "language": "python",
   "name": "python3"
  },
  "language_info": {
   "codemirror_mode": {
    "name": "ipython",
    "version": 3
   },
   "file_extension": ".py",
   "mimetype": "text/x-python",
   "name": "python",
   "nbconvert_exporter": "python",
   "pygments_lexer": "ipython3",
   "version": "3.8.12"
  }
 },
 "nbformat": 4,
 "nbformat_minor": 2
}
